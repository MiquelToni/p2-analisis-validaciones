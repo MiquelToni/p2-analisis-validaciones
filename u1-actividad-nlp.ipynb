{
 "cells": [
  {
   "cell_type": "markdown",
   "metadata": {},
   "source": [
    "# U1 Actividad NLP\n",
    "\n",
    "En esta actividad se ha analizado el conjunto de datos de [OpinRankDatasetWithJudgments](http://kavita-ganesan.com/entity-ranking-data/) para hallar las respuestas a las preguntas que propone el enunciado.\n",
    "\n",
    "Primero, nos descargamos el dataset:"
   ]
  },
  {
   "cell_type": "code",
   "execution_count": 1,
   "metadata": {},
   "outputs": [],
   "source": [
    "# If you haven't downloaded the dataset, then uncomment and run. Note unzipping is os dependent\n",
    "# !curl https://github.com/kavgan/OpinRank/raw/master/OpinRankDatasetWithJudgments.zip -o \"data/OpinRankDatasetWithJudgments.zip\"\n",
    "# !7z x -y \"data/OpinRankDatasetWithJudgments.zip\" -odata # 7zip / windows\n",
    "# !unzip \"data/OpinRankDatasetWithJudgments.zip\" # mac"
   ]
  },
  {
   "cell_type": "code",
   "execution_count": 2,
   "metadata": {},
   "outputs": [],
   "source": [
    "from ipyparallel import Client\n",
    "rc = Client()"
   ]
  },
  {
   "cell_type": "markdown",
   "metadata": {},
   "source": [
    "## Lectura de datos\n",
    "\n",
    "Dentro del zip que hemos descargados encontramos la siguiente estructura de ficheros:\n",
    "\n",
    "- data (dir)\n",
    "  - cars (dir)\n",
    "  - hotels (dir)\n",
    "    - data (dir)\n",
    "      - city-name (dir)\n",
    "        - hotel-name (file)\n",
    "          - *reviews here*\n",
    "      - city-name.csv (file)\n",
    "        - *hotels information*\n",
    "    - judgments\n",
    "      - city-name\n",
    "\n",
    "Ignoramos los datos de coches, directorio `cars`, y nos centraremos en el directorio `hotels`. Dentro de `hotels` encontramos dos directorios, `data` y `judgments`. \n",
    "\n",
    "En el primer directorio, data, encontramos los datos sin procesar. Estos datos se agrupan por ciudades. Cada ciudad tiene un fichero `.csv` y un directorio con su nombre. En el csv encontramos la lista de hoteles de esa ciudad y datos asociados a estos. Entre estos datos destaca el atributo `doc_id`, que contiene el nombre del fichero donde se encuentran las review de los usuarios. El fichero de las review se encuentra dentro del directorio con el nombre de la ciudad a la que pertenece.\n",
    "\n",
    "El `judgments` encontramos un directorio por cada ciudad. Dentro de cada directorio encontramos los resultados de las puntuaciones de relevancia.\n",
    "\n",
    "Para información más detallada podéis consultar la documentación del dataset, `OpinRankDatasetWithJudgments.pdf`."
   ]
  },
  {
   "cell_type": "code",
   "execution_count": 3,
   "metadata": {},
   "outputs": [
    {
     "data": {
      "text/html": [
       "<div>\n",
       "<style scoped>\n",
       "    .dataframe tbody tr th:only-of-type {\n",
       "        vertical-align: middle;\n",
       "    }\n",
       "\n",
       "    .dataframe tbody tr th {\n",
       "        vertical-align: top;\n",
       "    }\n",
       "\n",
       "    .dataframe thead th {\n",
       "        text-align: right;\n",
       "    }\n",
       "</style>\n",
       "<table border=\"1\" class=\"dataframe\">\n",
       "  <thead>\n",
       "    <tr style=\"text-align: right;\">\n",
       "      <th></th>\n",
       "      <th>doc_id</th>\n",
       "      <th>hotel_name</th>\n",
       "      <th>hotel_url</th>\n",
       "      <th>street</th>\n",
       "      <th>city</th>\n",
       "      <th>state</th>\n",
       "      <th>country</th>\n",
       "      <th>zip</th>\n",
       "      <th>class</th>\n",
       "      <th>price</th>\n",
       "      <th>num_reviews</th>\n",
       "      <th>CLEANLINESS</th>\n",
       "      <th>ROOM</th>\n",
       "      <th>SERVICE</th>\n",
       "      <th>LOCATION</th>\n",
       "      <th>VALUE</th>\n",
       "      <th>COMFORT</th>\n",
       "      <th>overall_ratingsource</th>\n",
       "    </tr>\n",
       "  </thead>\n",
       "  <tbody>\n",
       "    <tr>\n",
       "      <th>0</th>\n",
       "      <td>china_beijing_holiday_inn_central_plaza</td>\n",
       "      <td>holiday inn central plaza</td>\n",
       "      <td>http://www.tripadvisor.com/ShowUserReviews-g29...</td>\n",
       "      <td>no.1 caiyuan street  xuanwu district</td>\n",
       "      <td>beijing</td>\n",
       "      <td>-1</td>\n",
       "      <td>China</td>\n",
       "      <td>100053</td>\n",
       "      <td>-1</td>\n",
       "      <td>-1</td>\n",
       "      <td>247</td>\n",
       "      <td>4.786408</td>\n",
       "      <td>4.631068</td>\n",
       "      <td>4.733010</td>\n",
       "      <td>3.553398</td>\n",
       "      <td>4.699029</td>\n",
       "      <td>0.0</td>\n",
       "      <td>4.480583</td>\n",
       "    </tr>\n",
       "    <tr>\n",
       "      <th>1</th>\n",
       "      <td>china_beijing_hilton_beijing_wangfujing</td>\n",
       "      <td>hilton beijing wangfujing</td>\n",
       "      <td>http://www.tripadvisor.com/ShowUserReviews-g29...</td>\n",
       "      <td>no.8 wangfujing east street   dongcheng</td>\n",
       "      <td>beijing</td>\n",
       "      <td>-1</td>\n",
       "      <td>China</td>\n",
       "      <td>100006</td>\n",
       "      <td>-1</td>\n",
       "      <td>-1</td>\n",
       "      <td>74</td>\n",
       "      <td>4.810345</td>\n",
       "      <td>4.844828</td>\n",
       "      <td>4.758621</td>\n",
       "      <td>4.827586</td>\n",
       "      <td>4.517241</td>\n",
       "      <td>0.0</td>\n",
       "      <td>4.751724</td>\n",
       "    </tr>\n",
       "    <tr>\n",
       "      <th>2</th>\n",
       "      <td>china_beijing_hotel_g</td>\n",
       "      <td>hotel g</td>\n",
       "      <td>http://www.tripadvisor.com/ShowUserReviews-g29...</td>\n",
       "      <td>a7 worker's stadium  chaoyang district</td>\n",
       "      <td>beijing</td>\n",
       "      <td>-1</td>\n",
       "      <td>China</td>\n",
       "      <td>100020</td>\n",
       "      <td>-1</td>\n",
       "      <td>-1</td>\n",
       "      <td>110</td>\n",
       "      <td>4.769231</td>\n",
       "      <td>4.750000</td>\n",
       "      <td>4.576923</td>\n",
       "      <td>4.375000</td>\n",
       "      <td>4.653846</td>\n",
       "      <td>0.0</td>\n",
       "      <td>4.625000</td>\n",
       "    </tr>\n",
       "    <tr>\n",
       "      <th>3</th>\n",
       "      <td>china_beijing_the_regent_beijing</td>\n",
       "      <td>the regent beijing</td>\n",
       "      <td>http://www.tripadvisor.com/ShowUserReviews-g29...</td>\n",
       "      <td>no.99 jinbao street  dongcheng district</td>\n",
       "      <td>beijing</td>\n",
       "      <td>-1</td>\n",
       "      <td>China</td>\n",
       "      <td>100005</td>\n",
       "      <td>-1</td>\n",
       "      <td>-1</td>\n",
       "      <td>111</td>\n",
       "      <td>4.625000</td>\n",
       "      <td>4.812500</td>\n",
       "      <td>4.437500</td>\n",
       "      <td>4.645833</td>\n",
       "      <td>4.531250</td>\n",
       "      <td>0.0</td>\n",
       "      <td>4.610417</td>\n",
       "    </tr>\n",
       "    <tr>\n",
       "      <th>4</th>\n",
       "      <td>china_beijing_the_st_regis_beijing</td>\n",
       "      <td>the st regis beijing</td>\n",
       "      <td>http://www.tripadvisor.com/ShowUserReviews-g29...</td>\n",
       "      <td>no.21jianguomenwai street  chaoyang district</td>\n",
       "      <td>beijing</td>\n",
       "      <td>-1</td>\n",
       "      <td>China</td>\n",
       "      <td>100020</td>\n",
       "      <td>-1</td>\n",
       "      <td>-1</td>\n",
       "      <td>89</td>\n",
       "      <td>4.846154</td>\n",
       "      <td>4.646154</td>\n",
       "      <td>4.615385</td>\n",
       "      <td>4.492308</td>\n",
       "      <td>4.184615</td>\n",
       "      <td>0.0</td>\n",
       "      <td>4.556923</td>\n",
       "    </tr>\n",
       "  </tbody>\n",
       "</table>\n",
       "</div>"
      ],
      "text/plain": [
       "                                    doc_id                 hotel_name  \\\n",
       "0  china_beijing_holiday_inn_central_plaza  holiday inn central plaza   \n",
       "1  china_beijing_hilton_beijing_wangfujing  hilton beijing wangfujing   \n",
       "2                    china_beijing_hotel_g                    hotel g   \n",
       "3         china_beijing_the_regent_beijing         the regent beijing   \n",
       "4       china_beijing_the_st_regis_beijing       the st regis beijing   \n",
       "\n",
       "                                           hotel_url  \\\n",
       "0  http://www.tripadvisor.com/ShowUserReviews-g29...   \n",
       "1  http://www.tripadvisor.com/ShowUserReviews-g29...   \n",
       "2  http://www.tripadvisor.com/ShowUserReviews-g29...   \n",
       "3  http://www.tripadvisor.com/ShowUserReviews-g29...   \n",
       "4  http://www.tripadvisor.com/ShowUserReviews-g29...   \n",
       "\n",
       "                                         street     city state country  \\\n",
       "0          no.1 caiyuan street  xuanwu district  beijing    -1   China   \n",
       "1       no.8 wangfujing east street   dongcheng  beijing    -1   China   \n",
       "2        a7 worker's stadium  chaoyang district  beijing    -1   China   \n",
       "3       no.99 jinbao street  dongcheng district  beijing    -1   China   \n",
       "4  no.21jianguomenwai street  chaoyang district  beijing    -1   China   \n",
       "\n",
       "      zip class  price  num_reviews  CLEANLINESS      ROOM   SERVICE  \\\n",
       "0  100053    -1     -1          247     4.786408  4.631068  4.733010   \n",
       "1  100006    -1     -1           74     4.810345  4.844828  4.758621   \n",
       "2  100020    -1     -1          110     4.769231  4.750000  4.576923   \n",
       "3  100005    -1     -1          111     4.625000  4.812500  4.437500   \n",
       "4  100020    -1     -1           89     4.846154  4.646154  4.615385   \n",
       "\n",
       "   LOCATION     VALUE  COMFORT  overall_ratingsource  \n",
       "0  3.553398  4.699029      0.0              4.480583  \n",
       "1  4.827586  4.517241      0.0              4.751724  \n",
       "2  4.375000  4.653846      0.0              4.625000  \n",
       "3  4.645833  4.531250      0.0              4.610417  \n",
       "4  4.492308  4.184615      0.0              4.556923  "
      ]
     },
     "execution_count": 3,
     "metadata": {},
     "output_type": "execute_result"
    }
   ],
   "source": [
    "import os\n",
    "import functools\n",
    "import numpy as np\n",
    "import pandas as pd\n",
    "\n",
    "hotels = pd.DataFrame()\n",
    "\n",
    "# Podemos iterar y unir todos los csv porque sabemos que solo hay 10 ciudades.\n",
    "# Alternativamente, usariamos una función para cargar cada ciudad de forma independiente \n",
    "# como se ha hecho con las review de cada hotel.\n",
    "for name in os.listdir(\"data/hotels/data\"):\n",
    "    if name.endswith(\".csv\"):\n",
    "      hotelTmp = pd.read_csv(f\"data/hotels/data/{name}\", delimiter=',', index_col=False)\n",
    "      hotels = pd.concat([hotels, hotelTmp], axis=0)\n",
    "\n",
    "# Guardamos todos los nombres de las ciudades\n",
    "cities = hotels.city.unique()\n",
    "\n",
    "hotels.head()"
   ]
  },
  {
   "cell_type": "markdown",
   "metadata": {},
   "source": [
    "Como hay muchas reviews vamos a cargar el listado de reviews de cada hotel a demanda."
   ]
  },
  {
   "cell_type": "code",
   "execution_count": 4,
   "metadata": {},
   "outputs": [],
   "source": [
    "%%px\n",
    "# from textblob import TextBlob\n",
    "# def spellcheck(inputText):\n",
    "#   blob = TextBlob(str(inputText))\n",
    "#   return str(blob.correct())\n",
    "\n",
    "# Dada una fila/row del dataframe hotels del apartado anterior, nos devuelve un dataframe con las reviews\n",
    "def getReviews(hotel):\n",
    "  docId = hotel[\"doc_id\"]\n",
    "  city = hotel[\"city\"].replace(\" \", \"-\")\n",
    "  fileName = f\"data/hotels/data/{city}/{docId}\"\n",
    "  try:\n",
    "    reviews = pd.read_csv(fileName, delimiter=\"\\t\", index_col=False, header=None, encoding=\"cp1252\", on_bad_lines='skip')\n",
    "    reviews.columns = [\"date\", \"title\", \"review\", \"empty\"]\n",
    "\n",
    "    # la columna de date no la vamos a usar y la ultima columna, empty, es resultado de tener un tabulador\n",
    "    # a final de cada linea. No hay datos. Por lo tanto las quitamos\n",
    "    reviews = reviews.drop(columns=[\"date\", \"empty\"]) \n",
    "\n",
    "    # corregir ortografía. Es muuuuy lento\n",
    "    # reviews[\"title\"] = reviews[\"title\"].apply(spellcheck)\n",
    "    # reviews[\"review\"] = reviews[\"review\"].apply(spellcheck)\n",
    "\n",
    "    return reviews\n",
    "  except FileNotFoundError:\n",
    "    return pd.DataFrame()\n",
    "  except Exception as e:\n",
    "    print(e)\n",
    "    return pd.DataFrame()"
   ]
  },
  {
   "cell_type": "code",
   "execution_count": 5,
   "metadata": {},
   "outputs": [
    {
     "data": {
      "text/plain": [
       "[stdout:0] cantidad de reviews: 247\n"
      ]
     },
     "metadata": {},
     "output_type": "display_data"
    },
    {
     "data": {
      "text/html": [
       "<div>\n",
       "<style scoped>\n",
       "    .dataframe tbody tr th:only-of-type {\n",
       "        vertical-align: middle;\n",
       "    }\n",
       "\n",
       "    .dataframe tbody tr th {\n",
       "        vertical-align: top;\n",
       "    }\n",
       "\n",
       "    .dataframe thead th {\n",
       "        text-align: right;\n",
       "    }\n",
       "</style>\n",
       "<table border=\"1\" class=\"dataframe\">\n",
       "  <thead>\n",
       "    <tr style=\"text-align: right;\">\n",
       "      <th></th>\n",
       "      <th>title</th>\n",
       "      <th>review</th>\n",
       "    </tr>\n",
       "  </thead>\n",
       "  <tbody>\n",
       "    <tr>\n",
       "      <th>0</th>\n",
       "      <td>Absolutely fantastic. The only negative is not...</td>\n",
       "      <td>Just about everything about this hotel is fant...</td>\n",
       "    </tr>\n",
       "    <tr>\n",
       "      <th>1</th>\n",
       "      <td>BEST PLACE FOR TRAVELERS</td>\n",
       "      <td>it was so good to 2 nights when i was at beiji...</td>\n",
       "    </tr>\n",
       "    <tr>\n",
       "      <th>2</th>\n",
       "      <td>Excellent and travel advice</td>\n",
       "      <td>I think this Hotel is very nice, I do not see ...</td>\n",
       "    </tr>\n",
       "    <tr>\n",
       "      <th>3</th>\n",
       "      <td>good place to stay</td>\n",
       "      <td>just back from Beijing we stayed 4 nights, hot...</td>\n",
       "    </tr>\n",
       "    <tr>\n",
       "      <th>4</th>\n",
       "      <td>Hidden Gem</td>\n",
       "      <td>After reading many positive reviews on Tripadv...</td>\n",
       "    </tr>\n",
       "  </tbody>\n",
       "</table>\n",
       "</div>"
      ],
      "text/plain": [
       "\u001b[0;31mOut[0:95]: \u001b[0m\n",
       "                                               title                                             review\n",
       "0  Absolutely fantastic. The only negative is not...  Just about everything about this hotel is fant...\n",
       "1                           BEST PLACE FOR TRAVELERS  it was so good to 2 nights when i was at beiji...\n",
       "2                        Excellent and travel advice  I think this Hotel is very nice, I do not see ...\n",
       "3                                 good place to stay  just back from Beijing we stayed 4 nights, hot...\n",
       "4                                         Hidden Gem  After reading many positive reviews on Tripadv..."
      ]
     },
     "metadata": {
      "after": null,
      "completed": null,
      "data": {},
      "engine_id": 0,
      "engine_uuid": "d8f1cdcc-962d39087027c7ab02dbb11f",
      "error": null,
      "execute_input": "# test the function\nreviews = getReviews(hotels.iloc[0])\nprint(f\"cantidad de reviews: {len(reviews)}\")\nreviews.head()\n",
      "execute_result": {
       "data": {
        "text/html": "<div>\n<style scoped>\n    .dataframe tbody tr th:only-of-type {\n        vertical-align: middle;\n    }\n\n    .dataframe tbody tr th {\n        vertical-align: top;\n    }\n\n    .dataframe thead th {\n        text-align: right;\n    }\n</style>\n<table border=\"1\" class=\"dataframe\">\n  <thead>\n    <tr style=\"text-align: right;\">\n      <th></th>\n      <th>title</th>\n      <th>review</th>\n    </tr>\n  </thead>\n  <tbody>\n    <tr>\n      <th>0</th>\n      <td>Absolutely fantastic. The only negative is not...</td>\n      <td>Just about everything about this hotel is fant...</td>\n    </tr>\n    <tr>\n      <th>1</th>\n      <td>BEST PLACE FOR TRAVELERS</td>\n      <td>it was so good to 2 nights when i was at beiji...</td>\n    </tr>\n    <tr>\n      <th>2</th>\n      <td>Excellent and travel advice</td>\n      <td>I think this Hotel is very nice, I do not see ...</td>\n    </tr>\n    <tr>\n      <th>3</th>\n      <td>good place to stay</td>\n      <td>just back from Beijing we stayed 4 nights, hot...</td>\n    </tr>\n    <tr>\n      <th>4</th>\n      <td>Hidden Gem</td>\n      <td>After reading many positive reviews on Tripadv...</td>\n    </tr>\n  </tbody>\n</table>\n</div>",
        "text/plain": "                                               title                                             review\n0  Absolutely fantastic. The only negative is not...  Just about everything about this hotel is fant...\n1                           BEST PLACE FOR TRAVELERS  it was so good to 2 nights when i was at beiji...\n2                        Excellent and travel advice  I think this Hotel is very nice, I do not see ...\n3                                 good place to stay  just back from Beijing we stayed 4 nights, hot...\n4                                         Hidden Gem  After reading many positive reviews on Tripadv..."
       },
       "execution_count": 95,
       "metadata": {}
      },
      "follow": null,
      "msg_id": null,
      "outputs": [],
      "received": null,
      "started": null,
      "status": null,
      "stderr": "",
      "stdout": "cantidad de reviews: 247\n",
      "submitted": "2022-04-30T20:02:11.910473Z"
     },
     "output_type": "display_data"
    }
   ],
   "source": [
    "%%px --targets 0\n",
    "# test the function\n",
    "reviews = getReviews(hotels.iloc[0])\n",
    "print(f\"cantidad de reviews: {len(reviews)}\")\n",
    "reviews.head()"
   ]
  },
  {
   "cell_type": "markdown",
   "metadata": {},
   "source": [
    "En el proceso de carga de las reviews vimos que los ficheros que contienen las review:\n",
    "- Tienen una review por fila.\n",
    "- El separador es un tabulador.\n",
    "- El encode del fichero es `cp1252`. Se puede abrir en `utf-8` y es legible excepto acentos y algunos caracteres especiales.\n",
    "\n",
    "En el ejemplo podemos comprobar que la columna `date` no siempre va a tener valor.\n",
    "\n",
    "Actualización:\n",
    "  - Se ha modificado el algoritmo para que incluya soporte para corregir typos y se ha quitado la columna `date` ya que no aporta valor.\n",
    "  - Se ha comentado el corrector. Se tarda en mi maquina unos 10minutos para obtener 250 reviews. Sin el corrector son 0.6s."
   ]
  },
  {
   "cell_type": "markdown",
   "metadata": {},
   "source": [
    "## 1. ¿Qué partes de una habitación son las más mencionadas?\n",
    "\n",
    "In this section, I'm going to use wordnet of each room to look for matches. First, I'm going to look for the definition of room that we need. Then use it's hyponyms to search in the reviews."
   ]
  },
  {
   "cell_type": "code",
   "execution_count": 6,
   "metadata": {},
   "outputs": [],
   "source": [
    "%%px\n",
    "# load dependencies\n",
    "import re\n",
    "# import nltk\n",
    "# nltk.download('averaged_perceptron_tagger')\n",
    "# nltk.download('universal_tagset')\n",
    "# nltk.download(\"punkt\")\n",
    "from nltk import word_tokenize\n",
    "from nltk import pos_tag\n",
    "from nltk.stem import WordNetLemmatizer\n",
    "from nltk.corpus import wordnet\n",
    "import pprint\n",
    "\n",
    "lemmatizer = WordNetLemmatizer()"
   ]
  },
  {
   "cell_type": "code",
   "execution_count": 7,
   "metadata": {},
   "outputs": [
    {
     "data": {
      "text/plain": [
       "[stdout:0] Synset('room.n.01')\n",
       "an area within a building enclosed by walls and floor and ceiling\n",
       "['the rooms were very small but they had a nice view']\n",
       "----------\n",
       "Synset('room.n.02')\n",
       "space for movement\n",
       "['room to pass', 'make way for', 'hardly enough elbow room to turn around']\n",
       "----------\n",
       "Synset('room.n.03')\n",
       "opportunity for\n",
       "['room for improvement']\n",
       "----------\n",
       "Synset('room.n.04')\n",
       "the people who are present in a room\n",
       "['the whole room was cheering']\n",
       "----------\n",
       "Synset('board.v.02')\n",
       "live and take one's meals at or in\n",
       "['she rooms in an old boarding house']\n",
       "----------\n"
      ]
     },
     "metadata": {},
     "output_type": "display_data"
    }
   ],
   "source": [
    "%%px --target 0\n",
    "# check the room definition that we need\n",
    "for sense in wordnet.synsets('room'):\n",
    "    print(sense)\n",
    "    print(sense.definition())\n",
    "    print(sense.examples())\n",
    "    print(\"-\"*10)\n",
    "\n",
    "# Synset('room.n.01') is the definition that I'm looking for"
   ]
  },
  {
   "cell_type": "code",
   "execution_count": 8,
   "metadata": {},
   "outputs": [
    {
     "data": {
      "text/plain": [
       "\u001b[0;31mOut[0:98]: \u001b[0m\n",
       "[Synset('anechoic_chamber.n.01'),\n",
       " Synset('anteroom.n.01'),\n",
       " Synset('back_room.n.01'),\n",
       " Synset('ballroom.n.01'),\n",
       " Synset('barroom.n.01'),\n",
       " Synset('bathroom.n.01'),\n",
       " Synset('bedroom.n.01'),\n",
       " Synset('belfry.n.02'),\n",
       " Synset('billiard_room.n.01'),\n",
       " Synset('boardroom.n.01'),\n",
       " Synset('cardroom.n.01'),\n",
       " Synset('cell.n.06'),\n",
       " Synset('cell.n.07'),\n",
       " Synset('chamber.n.03'),\n",
       " Synset('checkroom.n.01'),\n",
       " Synset('classroom.n.01'),\n",
       " Synset('clean_room.n.01'),\n",
       " Synset('cloakroom.n.02'),\n",
       " Synset('closet.n.04'),\n",
       " Synset('clubroom.n.01'),\n",
       " Synset('compartment.n.02'),\n",
       " Synset('conference_room.n.01'),\n",
       " Synset('control_room.n.01'),\n",
       " Synset('court.n.02'),\n",
       " Synset('cubby.n.01'),\n",
       " Synset('cutting_room.n.01'),\n",
       " Synset('darkroom.n.01'),\n",
       " Synset('den.n.04'),\n",
       " Synset('dinette.n.01'),\n",
       " Synset('dining_room.n.01'),\n",
       " Synset('door.n.05'),\n",
       " Synset('dressing_room.n.01'),\n",
       " Synset('durbar.n.01'),\n",
       " Synset('engineering.n.03'),\n",
       " Synset('floor.n.10'),\n",
       " Synset('furnace_room.n.01'),\n",
       " Synset('gallery.n.03'),\n",
       " Synset('gallery.n.04'),\n",
       " Synset('greenroom.n.01'),\n",
       " Synset('guardroom.n.02'),\n",
       " Synset('hall.n.03'),\n",
       " Synset('hospital_room.n.01'),\n",
       " Synset('kitchen.n.01'),\n",
       " Synset('library.n.01'),\n",
       " Synset('living_room.n.01'),\n",
       " Synset('locker_room.n.01'),\n",
       " Synset('lounge.n.02'),\n",
       " Synset('manor_hall.n.01'),\n",
       " Synset('poolroom.n.01'),\n",
       " Synset('presence_chamber.n.01'),\n",
       " Synset('rathole.n.02'),\n",
       " Synset('reading_room.n.01'),\n",
       " Synset('reception_room.n.01'),\n",
       " Synset('recreation_room.n.01'),\n",
       " Synset('rotunda.n.02'),\n",
       " Synset('scriptorium.n.01'),\n",
       " Synset('scullery.n.01'),\n",
       " Synset('sewing_room.n.01'),\n",
       " Synset('shipping_room.n.01'),\n",
       " Synset('shower_room.n.01'),\n",
       " Synset('sickbay.n.01'),\n",
       " Synset('sickroom.n.01'),\n",
       " Synset('smoking_room.n.01'),\n",
       " Synset('squad_room.n.01'),\n",
       " Synset('squad_room.n.02'),\n",
       " Synset('steam_bath.n.01'),\n",
       " Synset('storeroom.n.01'),\n",
       " Synset('study.n.05'),\n",
       " Synset('sun_parlor.n.01'),\n",
       " Synset('surgery.n.02'),\n",
       " Synset('television_room.n.01'),\n",
       " Synset('test_room.n.01'),\n",
       " Synset('toilet.n.01'),\n",
       " Synset('torture_chamber.n.01'),\n",
       " Synset('vestry.n.02'),\n",
       " Synset('walk-in.n.04'),\n",
       " Synset('war_room.n.01'),\n",
       " Synset('workroom.n.01')]"
      ]
     },
     "metadata": {
      "after": null,
      "completed": null,
      "data": {},
      "engine_id": 0,
      "engine_uuid": "d8f1cdcc-962d39087027c7ab02dbb11f",
      "error": null,
      "execute_input": "room = wordnet.synset('room.n.01')\nroom.hyponyms()\n",
      "execute_result": {
       "data": {
        "text/plain": "[Synset('anechoic_chamber.n.01'),\n Synset('anteroom.n.01'),\n Synset('back_room.n.01'),\n Synset('ballroom.n.01'),\n Synset('barroom.n.01'),\n Synset('bathroom.n.01'),\n Synset('bedroom.n.01'),\n Synset('belfry.n.02'),\n Synset('billiard_room.n.01'),\n Synset('boardroom.n.01'),\n Synset('cardroom.n.01'),\n Synset('cell.n.06'),\n Synset('cell.n.07'),\n Synset('chamber.n.03'),\n Synset('checkroom.n.01'),\n Synset('classroom.n.01'),\n Synset('clean_room.n.01'),\n Synset('cloakroom.n.02'),\n Synset('closet.n.04'),\n Synset('clubroom.n.01'),\n Synset('compartment.n.02'),\n Synset('conference_room.n.01'),\n Synset('control_room.n.01'),\n Synset('court.n.02'),\n Synset('cubby.n.01'),\n Synset('cutting_room.n.01'),\n Synset('darkroom.n.01'),\n Synset('den.n.04'),\n Synset('dinette.n.01'),\n Synset('dining_room.n.01'),\n Synset('door.n.05'),\n Synset('dressing_room.n.01'),\n Synset('durbar.n.01'),\n Synset('engineering.n.03'),\n Synset('floor.n.10'),\n Synset('furnace_room.n.01'),\n Synset('gallery.n.03'),\n Synset('gallery.n.04'),\n Synset('greenroom.n.01'),\n Synset('guardroom.n.02'),\n Synset('hall.n.03'),\n Synset('hospital_room.n.01'),\n Synset('kitchen.n.01'),\n Synset('library.n.01'),\n Synset('living_room.n.01'),\n Synset('locker_room.n.01'),\n Synset('lounge.n.02'),\n Synset('manor_hall.n.01'),\n Synset('poolroom.n.01'),\n Synset('presence_chamber.n.01'),\n Synset('rathole.n.02'),\n Synset('reading_room.n.01'),\n Synset('reception_room.n.01'),\n Synset('recreation_room.n.01'),\n Synset('rotunda.n.02'),\n Synset('scriptorium.n.01'),\n Synset('scullery.n.01'),\n Synset('sewing_room.n.01'),\n Synset('shipping_room.n.01'),\n Synset('shower_room.n.01'),\n Synset('sickbay.n.01'),\n Synset('sickroom.n.01'),\n Synset('smoking_room.n.01'),\n Synset('squad_room.n.01'),\n Synset('squad_room.n.02'),\n Synset('steam_bath.n.01'),\n Synset('storeroom.n.01'),\n Synset('study.n.05'),\n Synset('sun_parlor.n.01'),\n Synset('surgery.n.02'),\n Synset('television_room.n.01'),\n Synset('test_room.n.01'),\n Synset('toilet.n.01'),\n Synset('torture_chamber.n.01'),\n Synset('vestry.n.02'),\n Synset('walk-in.n.04'),\n Synset('war_room.n.01'),\n Synset('workroom.n.01')]"
       },
       "execution_count": 98,
       "metadata": {}
      },
      "follow": null,
      "msg_id": null,
      "outputs": [],
      "received": null,
      "started": null,
      "status": null,
      "stderr": "",
      "stdout": "",
      "submitted": "2022-04-30T20:02:12.190474Z"
     },
     "output_type": "display_data"
    }
   ],
   "source": [
    "%%px --target 0\n",
    "room = wordnet.synset('room.n.01')\n",
    "room.hyponyms()"
   ]
  },
  {
   "cell_type": "markdown",
   "metadata": {},
   "source": [
    "Estas funciones nos servirán para lanzar y recuperar los procesos en paralelo"
   ]
  },
  {
   "cell_type": "code",
   "execution_count": 43,
   "metadata": {},
   "outputs": [],
   "source": [
    "import functools\n",
    "\n",
    "# reduce function\n",
    "def concatCounter(dict1, dict2):\n",
    "  try:\n",
    "    for key in dict1.keys():\n",
    "      if key in dict2:\n",
    "        dict2[key] += dict1[key]\n",
    "      else:\n",
    "        dict2[key] = dict1[key]\n",
    "    return dict2\n",
    "  except:\n",
    "    if dict(dict1):\n",
    "      return dict1\n",
    "    else:\n",
    "      if dict(dict2):\n",
    "        return dict2\n",
    "      else:\n",
    "        return {}\n",
    "\n",
    "def parallelize_dataframe(df, func, reduceFunc):\n",
    "  df_split = np.array_split(df, os.cpu_count())\n",
    "  # get a view on the cluster\n",
    "  view = rc.load_balanced_view()\n",
    "  # submit the tasks\n",
    "  asyncresult = view.map_async(func, df_split)\n",
    "  # wait interactively for results\n",
    "  asyncresult.wait_interactive()\n",
    "  # retrieve actual results\n",
    "  result = functools.reduce(reduceFunc,asyncresult.get())\n",
    "  return result"
   ]
  },
  {
   "cell_type": "markdown",
   "metadata": {},
   "source": [
    "Las funciones a continuación serán usadas en cada thread / cluster.\n",
    "En el primer bloque hay las genéricas.\n",
    "En el segundo bloque las funciones de búsqueda de habitaciones"
   ]
  },
  {
   "cell_type": "code",
   "execution_count": 10,
   "metadata": {},
   "outputs": [],
   "source": [
    "%%px \n",
    "def addOne(dict, key):\n",
    "  if key in dict:\n",
    "    dict[key] += 1\n",
    "  else:\n",
    "    dict[key] = 1\n",
    "  return dict\n",
    "\n",
    "def getNouns(review):\n",
    "  nouns = []\n",
    "  cleanText = wordCleaner(review)\n",
    "  tokens = list(set(word_tokenize(cleanText)))\n",
    "  taggedTokens = pos_tag(tokens, tagset='universal')\n",
    "  for taggedToken in taggedTokens:\n",
    "    (word, tokenType) = taggedToken\n",
    "    if tokenType == \"NOUN\":\n",
    "      nouns.append(word)\n",
    "  return nouns\n",
    "\n",
    "def wordCleaner(text):\n",
    "  return re.sub(\"(\\W(?!(\\w)))+\", \" \", str(text)).lower()\n",
    "\n",
    "def getSynsetsNames(synsets):\n",
    "  return list(map(lambda synset: synset.name(), synsets))\n",
    "\n",
    "rooms = getSynsetsNames(wordnet.synset('room.n.01').hyponyms()) # get room names as \"constant\", so we don't recalculate every time"
   ]
  },
  {
   "cell_type": "code",
   "execution_count": 11,
   "metadata": {},
   "outputs": [],
   "source": [
    "%%px\n",
    "def processReview(counter, review):\n",
    "  text = str(review.title) + \" \" + str(review.review)\n",
    "  tokenizedText = getNouns(text)\n",
    "  for word in tokenizedText:\n",
    "    try:\n",
    "      roomType = getRoomType(word)\n",
    "      if roomType != None:\n",
    "        counter = addOne(counter, roomType)\n",
    "    except Exception as e:\n",
    "      print(f\"failed with word '{word}' with type '{roomType}' and error code: {e}\")\n",
    "  return counter\n",
    "\n",
    "def getRoomType(word):\n",
    "  wordSynsets = wordnet.synsets(str(word))\n",
    "  for wordSynset in getSynsetsNames(wordSynsets):\n",
    "    if wordSynset in rooms:\n",
    "      return wordSynset\n",
    "  return None"
   ]
  },
  {
   "cell_type": "markdown",
   "metadata": {},
   "source": [
    "La función `findAllRoomMentions` al ser la principal la definimos en local porque debe ser visible para la función `map` (dentro de `parallelize_dataframe`) y enviarla al cluster a ejecutar."
   ]
  },
  {
   "cell_type": "code",
   "execution_count": 12,
   "metadata": {},
   "outputs": [],
   "source": [
    "def findAllRoomMentions(hotels):\n",
    "  counter = {}\n",
    "  for index, hotel in hotels.iterrows():\n",
    "    reviews = getReviews(hotel)\n",
    "    for reviewIdx, review in reviews.iterrows():\n",
    "      counter = processReview(counter, review)\n",
    "  return counter"
   ]
  },
  {
   "cell_type": "markdown",
   "metadata": {},
   "source": [
    "Usamos 12 hoteles para probar que los resultados son los que queremos."
   ]
  },
  {
   "cell_type": "code",
   "execution_count": 13,
   "metadata": {},
   "outputs": [
    {
     "data": {
      "application/vnd.jupyter.widget-view+json": {
       "model_id": "f488263d15094225aab43d3139e11010",
       "version_major": 2,
       "version_minor": 0
      },
      "text/plain": [
       "findAllRoomMentions:   0%|          | 0/12 [00:00<?, ?tasks/s]"
      ]
     },
     "metadata": {},
     "output_type": "display_data"
    },
    {
     "data": {
      "text/plain": [
       "{'bathroom.n.01': 233,\n",
       " 'door.n.05': 102,\n",
       " 'anteroom.n.01': 101,\n",
       " 'lounge.n.02': 84,\n",
       " 'cell.n.06': 21,\n",
       " 'kitchen.n.01': 7,\n",
       " 'bedroom.n.01': 24,\n",
       " 'toilet.n.01': 36,\n",
       " 'classroom.n.01': 1,\n",
       " 'sun_parlor.n.01': 1,\n",
       " 'barroom.n.01': 142,\n",
       " 'floor.n.10': 167,\n",
       " 'court.n.02': 8,\n",
       " 'gallery.n.03': 4,\n",
       " 'closet.n.04': 8,\n",
       " 'walk-in.n.04': 4,\n",
       " 'cubby.n.01': 1,\n",
       " 'living_room.n.01': 1,\n",
       " 'study.n.05': 4,\n",
       " 'library.n.01': 1,\n",
       " 'engineering.n.03': 1}"
      ]
     },
     "execution_count": 13,
     "metadata": {},
     "output_type": "execute_result"
    }
   ],
   "source": [
    "# test\n",
    "parallelize_dataframe(hotels[0:12], findAllRoomMentions, concatCounter)"
   ]
  },
  {
   "cell_type": "markdown",
   "metadata": {},
   "source": [
    "Ejecutamos el proceso para todos los hoteles agrupados por ciudad"
   ]
  },
  {
   "cell_type": "code",
   "execution_count": 14,
   "metadata": {},
   "outputs": [
    {
     "data": {
      "application/vnd.jupyter.widget-view+json": {
       "model_id": "a332fb6a97614dc4a4f8b7cf4d13359d",
       "version_major": 2,
       "version_minor": 0
      },
      "text/plain": [
       "findAllRoomMentions:   0%|          | 0/12 [00:00<?, ?tasks/s]"
      ]
     },
     "metadata": {},
     "output_type": "display_data"
    },
    {
     "data": {
      "application/vnd.jupyter.widget-view+json": {
       "model_id": "f991c6f609a049d9b8ffbda5686d9af7",
       "version_major": 2,
       "version_minor": 0
      },
      "text/plain": [
       "findAllRoomMentions:   0%|          | 0/12 [00:00<?, ?tasks/s]"
      ]
     },
     "metadata": {},
     "output_type": "display_data"
    },
    {
     "data": {
      "application/vnd.jupyter.widget-view+json": {
       "model_id": "04b54a5c29244299948d407f4b406d6d",
       "version_major": 2,
       "version_minor": 0
      },
      "text/plain": [
       "findAllRoomMentions:   0%|          | 0/12 [00:00<?, ?tasks/s]"
      ]
     },
     "metadata": {},
     "output_type": "display_data"
    },
    {
     "data": {
      "application/vnd.jupyter.widget-view+json": {
       "model_id": "ada62563cc5a4cd49815aa37e76aaaa4",
       "version_major": 2,
       "version_minor": 0
      },
      "text/plain": [
       "findAllRoomMentions:   0%|          | 0/12 [00:00<?, ?tasks/s]"
      ]
     },
     "metadata": {},
     "output_type": "display_data"
    },
    {
     "data": {
      "application/vnd.jupyter.widget-view+json": {
       "model_id": "b1e1ebabe4204315bdfcff06f2df19ad",
       "version_major": 2,
       "version_minor": 0
      },
      "text/plain": [
       "findAllRoomMentions:   0%|          | 0/12 [00:00<?, ?tasks/s]"
      ]
     },
     "metadata": {},
     "output_type": "display_data"
    },
    {
     "data": {
      "application/vnd.jupyter.widget-view+json": {
       "model_id": "1ea4c0325c0c4dec86cebf0df404da06",
       "version_major": 2,
       "version_minor": 0
      },
      "text/plain": [
       "findAllRoomMentions:   0%|          | 0/12 [00:00<?, ?tasks/s]"
      ]
     },
     "metadata": {},
     "output_type": "display_data"
    },
    {
     "data": {
      "application/vnd.jupyter.widget-view+json": {
       "model_id": "1400bd2df0f34baf9d4fa92f59a80028",
       "version_major": 2,
       "version_minor": 0
      },
      "text/plain": [
       "findAllRoomMentions:   0%|          | 0/12 [00:00<?, ?tasks/s]"
      ]
     },
     "metadata": {},
     "output_type": "display_data"
    },
    {
     "data": {
      "application/vnd.jupyter.widget-view+json": {
       "model_id": "abd584b2814e46b5989934ced55a312a",
       "version_major": 2,
       "version_minor": 0
      },
      "text/plain": [
       "findAllRoomMentions:   0%|          | 0/12 [00:00<?, ?tasks/s]"
      ]
     },
     "metadata": {},
     "output_type": "display_data"
    },
    {
     "data": {
      "application/vnd.jupyter.widget-view+json": {
       "model_id": "1406fb8e7d68467e995f1c5c2fde1c11",
       "version_major": 2,
       "version_minor": 0
      },
      "text/plain": [
       "findAllRoomMentions:   0%|          | 0/12 [00:00<?, ?tasks/s]"
      ]
     },
     "metadata": {},
     "output_type": "display_data"
    },
    {
     "data": {
      "application/vnd.jupyter.widget-view+json": {
       "model_id": "90687e766ffe4f468f99644e37e3f7df",
       "version_major": 2,
       "version_minor": 0
      },
      "text/plain": [
       "findAllRoomMentions:   0%|          | 0/12 [00:00<?, ?tasks/s]"
      ]
     },
     "metadata": {},
     "output_type": "display_data"
    },
    {
     "data": {
      "text/plain": [
       "<AxesSubplot:>"
      ]
     },
     "execution_count": 14,
     "metadata": {},
     "output_type": "execute_result"
    },
    {
     "data": {
      "image/png": "[encoded data removed]",
      "text/plain": [
       "<Figure size 1152x720 with 1 Axes>"
      ]
     },
     "metadata": {
      "needs_background": "light"
     },
     "output_type": "display_data"
    }
   ],
   "source": [
    "stats = {}\n",
    "\n",
    "for city in cities:\n",
    "  stats[city] =  parallelize_dataframe(hotels[hotels[\"city\"] == city], findAllRoomMentions, concatCounter)\n",
    "\n",
    "statsDf = pd.DataFrame(stats).replace('NaN', 0)\n",
    "statsDf.to_csv('resultados_apartado_1.csv')\n",
    "statsDf.plot.barh(figsize=(16,10), stacked=True)"
   ]
  },
  {
   "cell_type": "markdown",
   "metadata": {},
   "source": [
    "### Resultados"
   ]
  },
  {
   "cell_type": "markdown",
   "metadata": {},
   "source": [
    "## 2. ¿Qué servicios pueden detectarse por cada hotel?\n",
    "Ejecutamos el mismo código de búsqueda anterior mortificándolo para que esta vez busque servicios.\n",
    "\n",
    "Antes de que pueda buscar servicios debemos definir cuales son los *synset* de los servicios de un hotel."
   ]
  },
  {
   "cell_type": "code",
   "execution_count": null,
   "metadata": {},
   "outputs": [
    {
     "data": {
      "text/plain": [
       "[stdout:0] Synset('restaurant.n.01')\n",
       "a building where people go to eat\n",
       "[]\n",
       "[Synset('bistro.n.01'), Synset('brasserie.n.01'), Synset('brewpub.n.01'), Synset('cafe.n.01'), Synset('cafeteria.n.01'), Synset('canteen.n.03'), Synset('canteen.n.05'), Synset('diner.n.03'), Synset('greasy_spoon.n.01'), Synset('grillroom.n.01'), Synset('hash_house.n.01'), Synset('lunchroom.n.01'), Synset('rotisserie.n.02'), Synset('steakhouse.n.01'), Synset('teashop.n.01')]\n",
       "[Synset('building.n.01')]\n",
       "----------\n",
       "Synset('pool.n.01')\n",
       "an excavation that is (usually) filled with water\n",
       "[]\n",
       "[Synset('cistern.n.03'), Synset('swimming_pool.n.01'), Synset('wading_pool.n.01'), Synset('water_jump.n.01')]\n",
       "[Synset('excavation.n.03')]\n",
       "----------\n",
       "Synset('pond.n.01')\n",
       "a small lake\n",
       "['the pond was too small for sailing']\n",
       "[Synset('fishpond.n.01'), Synset('horsepond.n.01'), Synset('mere.n.01'), Synset('millpond.n.01'), Synset('swimming_hole.n.01'), Synset('water_hole.n.01')]\n",
       "[Synset('lake.n.01')]\n",
       "----------\n",
       "Synset('pool.n.03')\n",
       "an organization of people or resources that can be shared\n",
       "['a car pool', 'a secretarial pool', 'when he was first hired he was assigned to the pool']\n",
       "[Synset('typing_pool.n.01')]\n",
       "[Synset('organization.n.01')]\n",
       "----------\n",
       "Synset('consortium.n.01')\n",
       "an association of companies for some definite purpose\n",
       "[]\n",
       "[Synset('trust.n.04')]\n",
       "[Synset('association.n.01')]\n",
       "----------\n",
       "Synset('pool.n.05')\n",
       "any communal combination of funds\n",
       "['everyone contributed to the pool']\n",
       "[]\n",
       "[Synset('reserve_account.n.01')]\n",
       "----------\n",
       "Synset('pool.n.06')\n",
       "a small body of standing water (rainwater) or other liquid\n",
       "['there were puddles of muddy water in the road after the rain', 'the body lay in a pool of blood']\n",
       "[Synset('billabong.n.01'), Synset('mud_puddle.n.01')]\n",
       "[Synset('body_of_water.n.01')]\n",
       "----------\n",
       "Synset('pool.n.07')\n",
       "the combined stakes of the betters\n",
       "[]\n",
       "[]\n",
       "[Synset('stake.n.04')]\n",
       "----------\n",
       "Synset('pool.n.08')\n",
       "something resembling a pool of liquid\n",
       "['he stood in a pool of light', 'his chair sat in a puddle of books and magazines']\n",
       "[]\n",
       "[Synset('topographic_point.n.01')]\n",
       "----------\n",
       "Synset('pool.n.09')\n",
       "any of various games played on a pool table having 6 pockets\n",
       "[]\n",
       "[Synset('snooker.n.01')]\n",
       "[Synset('table_game.n.01')]\n",
       "----------\n",
       "Synset('pool.v.01')\n",
       "combine into a common fund\n",
       "['We pooled resources']\n",
       "[]\n",
       "[Synset('share.v.02')]\n",
       "----------\n",
       "Synset('pool.v.02')\n",
       "join or form a pool of people\n",
       "[]\n",
       "[]\n",
       "[Synset('group.v.02')]\n",
       "----------\n",
       "Synset('watering_place.n.01')\n",
       "a health resort near a spring or at the seaside\n",
       "[]\n",
       "[]\n",
       "[Synset('resort_area.n.01')]\n",
       "----------\n",
       "Synset('resort_hotel.n.02')\n",
       "a fashionable hotel usually in a resort area\n",
       "[]\n",
       "[]\n",
       "[Synset('hotel.n.01')]\n",
       "----------\n",
       "Synset('health_spa.n.01')\n",
       "a place of business with equipment and facilities for exercising and improving physical fitness\n",
       "[]\n",
       "[Synset('fat_farm.n.01')]\n",
       "[Synset('place_of_business.n.01')]\n",
       "----------\n",
       "Synset('gymnasium.n.02')\n",
       "athletic facility equipped for sports or physical training\n",
       "[]\n",
       "[]\n",
       "[Synset('athletic_facility.n.01')]\n",
       "----------\n",
       "Synset('bellboy.n.01')\n",
       "someone employed as an errand boy and luggage carrier around hotels\n",
       "[]\n",
       "[]\n",
       "[Synset('attendant.n.01')]\n",
       "----------\n",
       "Synset('wireless_local_area_network.n.01')\n",
       "a local area network that uses high frequency radio signals to transmit and receive data over distances of a few hundred feet; uses ethernet protocol\n",
       "[]\n",
       "[]\n",
       "[Synset('local_area_network.n.01')]\n",
       "----------\n",
       "Synset('television.n.01')\n",
       "broadcasting visual images of stationary or moving objects; ;  - Ernie Kovacs\n",
       "['she is a star of screen and video', 'Television is a medium because it is neither rare nor well done']\n",
       "[Synset('cable_television.n.01'), Synset('high-definition_television.n.01')]\n",
       "[Synset('broadcasting.n.02')]\n",
       "----------\n",
       "Synset('television.n.02')\n",
       "a telecommunication system that transmits images of objects (stationary or moving) between distant points\n",
       "[]\n",
       "[Synset('cable.n.06'), Synset('closed-circuit_television.n.01'), Synset('color_television.n.01'), Synset('satellite_television.n.01')]\n",
       "[Synset('telecommunication_system.n.01')]\n",
       "----------\n",
       "Synset('television_receiver.n.01')\n",
       "an electronic device that receives television signals and displays them on a screen\n",
       "['the British call a tv set a telly']\n",
       "[]\n",
       "[Synset('receiver.n.01')]\n",
       "----------\n",
       "Synset('excursion.n.01')\n",
       "a journey taken for pleasure\n",
       "['many summer excursions to the shore', 'it was merely a pleasure trip', 'after cautious sashays into the field']\n",
       "[Synset('airing.n.02'), Synset('field_trip.n.01')]\n",
       "[Synset('journey.n.01')]\n",
       "----------\n",
       "Synset('digression.n.03')\n",
       "wandering from the main path of a journey\n",
       "[]\n",
       "[]\n",
       "[Synset('journey.n.01')]\n",
       "----------\n",
       "Synset('clean_and_jerk.n.01')\n",
       "a weightlift in which the barbell is lifted to shoulder height and then jerked overhead\n",
       "[]\n",
       "[]\n",
       "[Synset('weightlift.n.01')]\n",
       "----------\n",
       "Synset('clean.v.01')\n",
       "make clean by removing dirt, filth, or unwanted substances from\n",
       "['Clean the stove!', 'The dentist cleaned my teeth']\n",
       "[Synset('bream.v.01'), Synset('brush.v.03'), Synset('disinfect.v.01'), Synset('dry_clean.v.01'), Synset('dust.v.01'), Synset('pipe-clay.v.01'), Synset('preen.v.01'), Synset('sanitize.v.01'), Synset('scavenge.v.01'), Synset('steam.v.05'), Synset('sweep.v.06'), Synset('vacuum.v.01'), Synset('wash.v.03'), Synset('wash_up.v.03')]\n",
       "[Synset('change.v.01')]\n",
       "----------\n",
       "Synset('clean.v.02')\n",
       "remove unwanted substances from, such as feathers or pits\n",
       "['Clean the turkey']\n",
       "[]\n",
       "[Synset('remove.v.01')]\n",
       "----------\n",
       "Synset('houseclean.v.01')\n",
       "clean and tidy up the house\n",
       "['She housecleans every week']\n",
       "[Synset('g.i..v.01'), Synset('spring-clean.v.01')]\n",
       "[Synset('tidy.v.01')]\n",
       "----------\n",
       "Synset('cleanse.v.01')\n",
       "clean one's body or parts thereof, as by washing\n",
       "['clean up before you see your grandparents', 'clean your fingernails before dinner']\n",
       "[Synset('bathe.v.01'), Synset('bathe.v.03'), Synset('decontaminate.v.01'), Synset('douche.v.01'), Synset('floss.v.01'), Synset('soap.v.01'), Synset('wash.v.02'), Synset('wash.v.13')]\n",
       "[Synset('groom.v.03')]\n",
       "----------\n",
       "Synset('clean.v.05')\n",
       "be cleanable\n",
       "['This stove cleans easily']\n",
       "[]\n",
       "[Synset('be.v.01')]\n",
       "----------\n",
       "Synset('clean.v.06')\n",
       "deprive wholly of money in a gambling game, robbery, etc.\n",
       "['The other players cleaned him completely']\n",
       "[]\n",
       "[Synset('deprive.v.01')]\n",
       "----------\n",
       "Synset('clean.v.07')\n",
       "remove all contents or possession from, or empty completely\n",
       "['The boys cleaned the sandwich platters', 'The trees were cleaned of apples by the storm']\n",
       "[]\n",
       "[Synset('remove.v.01')]\n",
       "----------\n",
       "Synset('clean.v.08')\n",
       "remove while making clean\n",
       "['Clean the spots off the rug']\n",
       "[]\n",
       "[Synset('remove.v.01')]\n",
       "----------\n",
       "Synset('scavenge.v.04')\n",
       "remove unwanted substances from\n",
       "[]\n",
       "[]\n",
       "[Synset('remove.v.01')]\n",
       "----------\n",
       "Synset('clean.v.10')\n",
       "remove shells or husks from\n",
       "['clean grain before milling it']\n",
       "[]\n",
       "[Synset('remove.v.01')]\n",
       "----------\n",
       "Synset('clean.a.01')\n",
       "free from dirt or impurities; or having clean habits\n",
       "['children with clean shining faces', 'clean white shirts', 'clean dishes', 'a spotlessly clean house', 'cats are clean animals']\n",
       "[]\n",
       "[]\n",
       "----------\n",
       "Synset('clean.s.02')\n",
       "free of restrictions or qualifications\n",
       "['a clean bill of health', 'a clear winner']\n",
       "[]\n",
       "[]\n",
       "----------\n",
       "Synset('clean.s.03')\n",
       "(of sound or color) free from anything that dulls or dims\n",
       "['efforts to obtain a clean bass in orchestral recordings', 'clear laughter like a waterfall', 'clear reds and blues', 'a light lilting voice like a silver bell']\n",
       "[]\n",
       "[]\n",
       "----------\n",
       "Synset('clean.s.04')\n",
       "free from impurities\n",
       "['clean water', 'fresh air']\n",
       "[]\n",
       "[]\n",
       "----------\n",
       "Synset('clean.s.05')\n",
       "(of a record) having no marks of discredit or offense\n",
       "['a clean voting record', \"a clean driver's license\"]\n",
       "[]\n",
       "[]\n",
       "----------\n",
       "Synset('clean.a.06')\n",
       "ritually clean or pure\n",
       "[]\n",
       "[]\n",
       "[]\n",
       "----------\n",
       "Synset('clean.a.07')\n",
       "not spreading pollution or contamination; especially radioactive contamination\n",
       "['a clean fuel', 'cleaner and more efficient engines', 'the tactical bomb is reasonably clean']\n",
       "[]\n",
       "[]\n",
       "----------\n",
       "Synset('clean.a.08')\n",
       "(of behavior or especially language) free from objectionable elements; fit for all observers\n",
       "['good clean fun', 'a clean joke']\n",
       "[]\n",
       "[]\n",
       "----------\n",
       "Synset('uninfected.s.01')\n",
       "free from sepsis or infection\n",
       "['a clean (or uninfected) wound']\n",
       "[]\n",
       "[]\n",
       "----------\n",
       "Synset('clean.s.10')\n",
       "morally pure\n",
       "['led a clean life']\n",
       "[]\n",
       "[]\n",
       "----------\n",
       "Synset('clean.s.11')\n",
       "(of a manuscript) having few alterations or corrections\n",
       "['fair copy', 'a clean manuscript']\n",
       "[]\n",
       "[]\n",
       "----------\n",
       "Synset('blank.s.01')\n",
       "(of a surface) not written or printed on\n",
       "['blank pages', 'fill in the blank spaces', 'a clean page', 'wide white margins']\n",
       "[]\n",
       "[]\n",
       "----------\n",
       "Synset('clean.s.13')\n",
       "exhibiting or calling for sportsmanship or fair play\n",
       "['a clean fight', 'a sporting solution of the disagreement', 'sportsmanlike conduct']\n",
       "[]\n",
       "[]\n",
       "----------\n",
       "Synset('clean.s.14')\n",
       "without difficulties or problems\n",
       "['a clean test flight']\n",
       "[]\n",
       "[]\n",
       "----------\n",
       "Synset('clean.s.15')\n",
       "thorough and without qualification\n",
       "['a clean getaway', 'a clean sweep', 'a clean break']\n",
       "[]\n",
       "[]\n",
       "----------\n",
       "Synset('clean.s.16')\n",
       "not carrying concealed weapons\n",
       "[]\n",
       "[]\n",
       "[]\n",
       "----------\n",
       "Synset('clean.s.17')\n",
       "free from clumsiness; precisely or deftly executed\n",
       "[\"he landed a clean left on his opponent's cheek\", 'a clean throw', \"the neat exactness of the surgeon's knife\"]\n",
       "[]\n",
       "[]\n",
       "----------\n",
       "Synset('clean.s.18')\n",
       "free of drugs\n",
       "['after a long dependency on heroin she has been clean for 4 years']\n",
       "[]\n",
       "[]\n",
       "----------\n",
       "Synset('clean.r.01')\n",
       "completely; used as intensifiers\n",
       "['clean forgot the appointment', \"I'm plumb (or plum) tuckered out\"]\n",
       "[]\n",
       "[]\n",
       "----------\n",
       "Synset('fairly.r.03')\n",
       "in conformity with the rules or laws and without fraud or cheating\n",
       "['they played fairly']\n",
       "[]\n",
       "[]\n",
       "----------\n",
       "Synset('hot_spot.n.01')\n",
       "a place of political unrest and potential violence\n",
       "[\"the United States cannot police all of the world's hot spots\"]\n",
       "[]\n",
       "[Synset('geographical_area.n.01')]\n",
       "----------\n",
       "Synset('hot_spot.n.02')\n",
       "a point of relatively intense heat or radiation\n",
       "[]\n",
       "[]\n",
       "[Synset('point.n.02')]\n",
       "----------\n",
       "Synset('hot_spot.n.03')\n",
       "a lively entertainment spot\n",
       "[]\n",
       "[]\n",
       "[Synset('spot.n.07')]\n",
       "----------\n"
      ]
     },
     "metadata": {},
     "output_type": "display_data"
    }
   ],
   "source": [
    "%%px --target 0\n",
    "# buscar las definiciones de \"que es un servicio\"\n",
    "hotelServices = [\"restaurant\", \"pool\", \"spa\", \"gym\", \"bellman\", \"wifi\", \"television\", \"excursion\", \"clean\", \"hotspot\"]\n",
    "for service in hotelServices:\n",
    "  for sense in wordnet.synsets(service)[0:3]:\n",
    "      print(sense)\n",
    "      print(sense.definition())\n",
    "      print(sense.examples())\n",
    "      print(sense.hyponyms())\n",
    "      print(sense.hypernyms())\n",
    "      print(\"-\"*10)"
   ]
  },
  {
   "cell_type": "markdown",
   "metadata": {},
   "source": [
    "Los servicios que hemos seleccionado son los siguientes:\n",
    "- service.n.15: \n",
    "- restaurant.n.01: a building where people go to eat\n",
    "- pool.n.01: an excavation that is (usually) filled with water\n",
    "- watering_place.n.01: a health resort near a spring or at the seaside\n",
    "- athletic_facility.n.01: a facility for athletic events\n",
    "- baggageman.n.01: an attendant who takes care of baggage\n",
    "- bellboy.n.01: someone employed as an errand boy and luggage carrier around hotels\n",
    "- lifeguard.n.01: an attendant employed at a beach or pool to protect swimmers from accidents\n",
    "- checker.n.01: an attendant who checks coats or baggage\n",
    "- houseclean.v.01: clean and tidy up the house. Se ha buscado esta definición para tratar de obtener resultados sobre el servicio de limpieza\n",
    "- wireless_local_area_network.n.01: si el hotel tiene wifi\n",
    "- television.n.01: si el hotel tiene televisores en las habitaciones\n",
    "- excursion.n.01: si el hotel ofrece excursiones organizadas\n",
    "- gambling_house.n.01: si el hotel tiene un casino o salon de juegos\n",
    "- health_spa.n.01: si el hotel tiene un spa\n",
    "- hotel-casino.n.01: otra definición para saber si el hotel tiene un casino o salon de juegos\n",
    "- massage_parlor.n.02: si hay masajistas\n",
    "- mercantile_establishment.n.01: el hotel tiene una tienda o zona de tiendas cerca\n",
    "- spot.n.07: ubicaciones populares cercanas"
   ]
  },
  {
   "cell_type": "code",
   "execution_count": 16,
   "metadata": {},
   "outputs": [],
   "source": [
    "%%px\n",
    "services = [\n",
    "  wordnet.synset('service.n.15'), # el servicio que da un camarero a los clientes\n",
    "  wordnet.synset('restaurant.n.01'),\n",
    "  wordnet.synset('pool.n.01'),\n",
    "  wordnet.synset('watering_place.n.01'), # kinda spa\n",
    "  wordnet.synset('athletic_facility.n.01'),\n",
    "  wordnet.synset('baggageman.n.01'),\n",
    "  wordnet.synset('bellboy.n.01'),\n",
    "  wordnet.synset('lifeguard.n.01'),\n",
    "  wordnet.synset('checker.n.01'),\n",
    "  wordnet.synset('houseclean.v.01'),\n",
    "  wordnet.synset('wireless_local_area_network.n.01'),\n",
    "  wordnet.synset('television.n.01'),\n",
    "  wordnet.synset('excursion.n.01'),\n",
    "  wordnet.synset('gambling_house.n.01'), \n",
    "  wordnet.synset('health_spa.n.01'), \n",
    "  wordnet.synset('hotel-casino.n.01'), \n",
    "  wordnet.synset('massage_parlor.n.02'), \n",
    "  wordnet.synset('mercantile_establishment.n.01'),\n",
    "  wordnet.synset('spot.n.07'),\n",
    "]\n",
    "serviceNames = getSynsetsNames(services)"
   ]
  },
  {
   "cell_type": "markdown",
   "metadata": {},
   "source": [
    "Creamos la función `getAllHypernyms` capaz de calcular todos los *hypernyms* dada una palabra"
   ]
  },
  {
   "cell_type": "code",
   "execution_count": 17,
   "metadata": {},
   "outputs": [],
   "source": [
    "%%px\n",
    "from collections import OrderedDict\n",
    "\n",
    "def removeDuplicates(list):\n",
    "  return OrderedDict.fromkeys(list).keys()\n",
    "\n",
    "def getAllHypernyms(itemName):\n",
    "  allItemHypernyms = []\n",
    "  for synset in wordnet.synsets(itemName):\n",
    "    allItemHypernyms = allItemHypernyms + getAllHypernymsOsSynset(synset)\n",
    "  return removeDuplicates(allItemHypernyms)\n",
    "\n",
    "def getAllHypernymsOsSynset(synset):\n",
    "  synsetHypernyms = synset.hypernyms()\n",
    "  if len(synsetHypernyms) == 0:\n",
    "    return []\n",
    "\n",
    "  allSynsetHypernyms = []\n",
    "  for hypernym in synsetHypernyms:\n",
    "    allSynsetHypernyms = allSynsetHypernyms + getAllHypernymsOsSynset(hypernym)\n",
    "\n",
    "  return synsetHypernyms + allSynsetHypernyms"
   ]
  },
  {
   "cell_type": "code",
   "execution_count": 18,
   "metadata": {},
   "outputs": [
    {
     "data": {
      "text/plain": [
       "[stdout:0] odict_keys([Synset('building.n.01'), Synset('structure.n.01'), Synset('artifact.n.01'), Synset('whole.n.02'), Synset('object.n.01'), Synset('physical_entity.n.01'), Synset('entity.n.01')])\n"
      ]
     },
     "metadata": {},
     "output_type": "display_data"
    }
   ],
   "source": [
    "%%px --target 0\n",
    "# test\n",
    "pprint.pprint(getAllHypernyms('restaurant'))"
   ]
  },
  {
   "cell_type": "markdown",
   "metadata": {},
   "source": [
    "Procedimiento de búsqueda"
   ]
  },
  {
   "cell_type": "code",
   "execution_count": 19,
   "metadata": {},
   "outputs": [],
   "source": [
    "%%px\n",
    "def lookForServices(counter, review):\n",
    "  text = str(review.title) + \" \" + str(review.review)\n",
    "  tokenizedText = getNouns(text)\n",
    "  for word in tokenizedText:\n",
    "    try:\n",
    "      serviceType = getServiceType(word)\n",
    "      if serviceType != None:\n",
    "        counter = addOne(counter, word)\n",
    "    except Exception as e:\n",
    "      print(e)\n",
    "  return counter\n",
    "\n",
    "# En este caso en lugar de mirar si los synset de 1 nivel encajan con la lista de habitaciones posibles, vamos a hacerlo al revés.\n",
    "# Vamos a coger todos los hypernyms de la palabra y ver si encaja \n",
    "def getServiceType(word):\n",
    "  wordSynsets = getAllHypernyms(word)\n",
    "  for wordSynset in getSynsetsNames(wordSynsets):\n",
    "    if wordSynset in serviceNames:\n",
    "      return wordSynset\n",
    "  return None"
   ]
  },
  {
   "cell_type": "code",
   "execution_count": 38,
   "metadata": {},
   "outputs": [
    {
     "data": {
      "application/vnd.jupyter.widget-view+json": {
       "model_id": "e5b34cb3991f4bb48b79f556a8e71d4a",
       "version_major": 2,
       "version_minor": 0
      },
      "text/plain": [
       "findAllServices:   0%|          | 0/12 [00:00<?, ?tasks/s]"
      ]
     },
     "metadata": {},
     "output_type": "display_data"
    },
    {
     "data": {
      "text/html": [
       "<div>\n",
       "<style scoped>\n",
       "    .dataframe tbody tr th:only-of-type {\n",
       "        vertical-align: middle;\n",
       "    }\n",
       "\n",
       "    .dataframe tbody tr th {\n",
       "        vertical-align: top;\n",
       "    }\n",
       "\n",
       "    .dataframe thead th {\n",
       "        text-align: right;\n",
       "    }\n",
       "</style>\n",
       "<table border=\"1\" class=\"dataframe\">\n",
       "  <thead>\n",
       "    <tr style=\"text-align: right;\">\n",
       "      <th></th>\n",
       "      <th>spring garden courtyard hotel</th>\n",
       "      <th>michael s house in beijing</th>\n",
       "      <th>intercontinental financial street beijing</th>\n",
       "      <th>double happiness courtyard hotel</th>\n",
       "      <th>the opposite house</th>\n",
       "      <th>the ritz carlton huamao center</th>\n",
       "      <th>park plaza beijing wangfujing</th>\n",
       "      <th>the st regis beijing</th>\n",
       "      <th>the regent beijing</th>\n",
       "      <th>hotel g</th>\n",
       "      <th>hilton beijing wangfujing</th>\n",
       "      <th>holiday inn central plaza</th>\n",
       "    </tr>\n",
       "  </thead>\n",
       "  <tbody>\n",
       "    <tr>\n",
       "      <th>shops</th>\n",
       "      <td>1.0</td>\n",
       "      <td>1.0</td>\n",
       "      <td>NaN</td>\n",
       "      <td>5.0</td>\n",
       "      <td>3.0</td>\n",
       "      <td>2.0</td>\n",
       "      <td>12.0</td>\n",
       "      <td>1.0</td>\n",
       "      <td>1.0</td>\n",
       "      <td>2.0</td>\n",
       "      <td>7.0</td>\n",
       "      <td>3.0</td>\n",
       "    </tr>\n",
       "    <tr>\n",
       "      <th>stand</th>\n",
       "      <td>1.0</td>\n",
       "      <td>NaN</td>\n",
       "      <td>NaN</td>\n",
       "      <td>NaN</td>\n",
       "      <td>NaN</td>\n",
       "      <td>1.0</td>\n",
       "      <td>NaN</td>\n",
       "      <td>1.0</td>\n",
       "      <td>NaN</td>\n",
       "      <td>NaN</td>\n",
       "      <td>1.0</td>\n",
       "      <td>2.0</td>\n",
       "    </tr>\n",
       "    <tr>\n",
       "      <th>market</th>\n",
       "      <td>1.0</td>\n",
       "      <td>2.0</td>\n",
       "      <td>NaN</td>\n",
       "      <td>1.0</td>\n",
       "      <td>1.0</td>\n",
       "      <td>NaN</td>\n",
       "      <td>24.0</td>\n",
       "      <td>7.0</td>\n",
       "      <td>6.0</td>\n",
       "      <td>6.0</td>\n",
       "      <td>12.0</td>\n",
       "      <td>6.0</td>\n",
       "    </tr>\n",
       "    <tr>\n",
       "      <th>cable</th>\n",
       "      <td>NaN</td>\n",
       "      <td>1.0</td>\n",
       "      <td>NaN</td>\n",
       "      <td>2.0</td>\n",
       "      <td>NaN</td>\n",
       "      <td>NaN</td>\n",
       "      <td>9.0</td>\n",
       "      <td>NaN</td>\n",
       "      <td>1.0</td>\n",
       "      <td>NaN</td>\n",
       "      <td>1.0</td>\n",
       "      <td>NaN</td>\n",
       "    </tr>\n",
       "    <tr>\n",
       "      <th>shop</th>\n",
       "      <td>NaN</td>\n",
       "      <td>1.0</td>\n",
       "      <td>NaN</td>\n",
       "      <td>1.0</td>\n",
       "      <td>NaN</td>\n",
       "      <td>NaN</td>\n",
       "      <td>5.0</td>\n",
       "      <td>1.0</td>\n",
       "      <td>2.0</td>\n",
       "      <td>1.0</td>\n",
       "      <td>1.0</td>\n",
       "      <td>6.0</td>\n",
       "    </tr>\n",
       "  </tbody>\n",
       "</table>\n",
       "</div>"
      ],
      "text/plain": [
       "        spring garden courtyard hotel  michael s house in beijing  \\\n",
       "shops                             1.0                         1.0   \n",
       "stand                             1.0                         NaN   \n",
       "market                            1.0                         2.0   \n",
       "cable                             NaN                         1.0   \n",
       "shop                              NaN                         1.0   \n",
       "\n",
       "        intercontinental financial street beijing  \\\n",
       "shops                                         NaN   \n",
       "stand                                         NaN   \n",
       "market                                        NaN   \n",
       "cable                                         NaN   \n",
       "shop                                          NaN   \n",
       "\n",
       "        double happiness courtyard hotel  the opposite house  \\\n",
       "shops                                5.0                 3.0   \n",
       "stand                                NaN                 NaN   \n",
       "market                               1.0                 1.0   \n",
       "cable                                2.0                 NaN   \n",
       "shop                                 1.0                 NaN   \n",
       "\n",
       "        the ritz carlton huamao center  park plaza beijing wangfujing  \\\n",
       "shops                              2.0                           12.0   \n",
       "stand                              1.0                            NaN   \n",
       "market                             NaN                           24.0   \n",
       "cable                              NaN                            9.0   \n",
       "shop                               NaN                            5.0   \n",
       "\n",
       "        the st regis beijing  the regent beijing  hotel g  \\\n",
       "shops                    1.0                 1.0      2.0   \n",
       "stand                    1.0                 NaN      NaN   \n",
       "market                   7.0                 6.0      6.0   \n",
       "cable                    NaN                 1.0      NaN   \n",
       "shop                     1.0                 2.0      1.0   \n",
       "\n",
       "        hilton beijing wangfujing  holiday inn central plaza  \n",
       "shops                         7.0                        3.0  \n",
       "stand                         1.0                        2.0  \n",
       "market                       12.0                        6.0  \n",
       "cable                         1.0                        NaN  \n",
       "shop                          1.0                        6.0  "
      ]
     },
     "execution_count": 38,
     "metadata": {},
     "output_type": "execute_result"
    }
   ],
   "source": [
    "def findAllServices(hotels):\n",
    "  counterList = {}\n",
    "  for index, hotel in hotels.iterrows():\n",
    "    reviews = getReviews(hotel)\n",
    "    counter = {}\n",
    "    for reviewIdx, review in reviews.iterrows():\n",
    "      lookForServices(counter, review)\n",
    "    counterList[hotel[\"hotel_name\"]] = counter\n",
    "  return counterList\n",
    "\n",
    "# test\n",
    "result = parallelize_dataframe(hotels[0:12], findAllServices, concatCounter)\n",
    "pd.DataFrame(result).head()"
   ]
  },
  {
   "cell_type": "code",
   "execution_count": 41,
   "metadata": {},
   "outputs": [
    {
     "data": {
      "application/vnd.jupyter.widget-view+json": {
       "model_id": "ac2cffdd16c04407abbc215762bc9998",
       "version_major": 2,
       "version_minor": 0
      },
      "text/plain": [
       "findAllServices:   0%|          | 0/12 [00:00<?, ?tasks/s]"
      ]
     },
     "metadata": {},
     "output_type": "display_data"
    },
    {
     "data": {
      "text/html": [
       "<div>\n",
       "<style scoped>\n",
       "    .dataframe tbody tr th:only-of-type {\n",
       "        vertical-align: middle;\n",
       "    }\n",
       "\n",
       "    .dataframe tbody tr th {\n",
       "        vertical-align: top;\n",
       "    }\n",
       "\n",
       "    .dataframe thead th {\n",
       "        text-align: right;\n",
       "    }\n",
       "</style>\n",
       "<table border=\"1\" class=\"dataframe\">\n",
       "  <thead>\n",
       "    <tr style=\"text-align: right;\">\n",
       "      <th></th>\n",
       "      <th>mall</th>\n",
       "      <th>stands</th>\n",
       "      <th>market</th>\n",
       "      <th>supermarket</th>\n",
       "      <th>stores</th>\n",
       "      <th>plaza</th>\n",
       "      <th>store</th>\n",
       "      <th>stall</th>\n",
       "      <th>center</th>\n",
       "      <th>sinks</th>\n",
       "      <th>...</th>\n",
       "      <th>supermarkets</th>\n",
       "      <th>salon</th>\n",
       "      <th>bakery</th>\n",
       "      <th>teashop</th>\n",
       "      <th>boutique</th>\n",
       "      <th>plazas</th>\n",
       "      <th>groceries</th>\n",
       "      <th>clubs</th>\n",
       "      <th>cafe</th>\n",
       "      <th>hotspots</th>\n",
       "    </tr>\n",
       "  </thead>\n",
       "  <tbody>\n",
       "    <tr>\n",
       "      <th>hilton beijing wangfujing</th>\n",
       "      <td>12.0</td>\n",
       "      <td>1.0</td>\n",
       "      <td>12.0</td>\n",
       "      <td>6.0</td>\n",
       "      <td>3.0</td>\n",
       "      <td>4.0</td>\n",
       "      <td>2.0</td>\n",
       "      <td>3.0</td>\n",
       "      <td>4.0</td>\n",
       "      <td>2.0</td>\n",
       "      <td>...</td>\n",
       "      <td>NaN</td>\n",
       "      <td>NaN</td>\n",
       "      <td>NaN</td>\n",
       "      <td>NaN</td>\n",
       "      <td>NaN</td>\n",
       "      <td>NaN</td>\n",
       "      <td>NaN</td>\n",
       "      <td>NaN</td>\n",
       "      <td>NaN</td>\n",
       "      <td>NaN</td>\n",
       "    </tr>\n",
       "    <tr>\n",
       "      <th>holiday inn central plaza</th>\n",
       "      <td>3.0</td>\n",
       "      <td>NaN</td>\n",
       "      <td>6.0</td>\n",
       "      <td>2.0</td>\n",
       "      <td>2.0</td>\n",
       "      <td>54.0</td>\n",
       "      <td>2.0</td>\n",
       "      <td>NaN</td>\n",
       "      <td>12.0</td>\n",
       "      <td>NaN</td>\n",
       "      <td>...</td>\n",
       "      <td>5.0</td>\n",
       "      <td>2.0</td>\n",
       "      <td>4.0</td>\n",
       "      <td>1.0</td>\n",
       "      <td>1.0</td>\n",
       "      <td>1.0</td>\n",
       "      <td>1.0</td>\n",
       "      <td>1.0</td>\n",
       "      <td>1.0</td>\n",
       "      <td>1.0</td>\n",
       "    </tr>\n",
       "  </tbody>\n",
       "</table>\n",
       "<p>2 rows × 32 columns</p>\n",
       "</div>"
      ],
      "text/plain": [
       "                           mall  stands  market  supermarket  stores  plaza  \\\n",
       "hilton beijing wangfujing  12.0     1.0    12.0          6.0     3.0    4.0   \n",
       "holiday inn central plaza   3.0     NaN     6.0          2.0     2.0   54.0   \n",
       "\n",
       "                           store  stall  center  sinks  ...  supermarkets  \\\n",
       "hilton beijing wangfujing    2.0    3.0     4.0    2.0  ...           NaN   \n",
       "holiday inn central plaza    2.0    NaN    12.0    NaN  ...           5.0   \n",
       "\n",
       "                           salon  bakery  teashop  boutique  plazas  \\\n",
       "hilton beijing wangfujing    NaN     NaN      NaN       NaN     NaN   \n",
       "holiday inn central plaza    2.0     4.0      1.0       1.0     1.0   \n",
       "\n",
       "                           groceries  clubs  cafe  hotspots  \n",
       "hilton beijing wangfujing        NaN    NaN   NaN       NaN  \n",
       "holiday inn central plaza        1.0    1.0   1.0       1.0  \n",
       "\n",
       "[2 rows x 32 columns]"
      ]
     },
     "execution_count": 41,
     "metadata": {},
     "output_type": "execute_result"
    }
   ],
   "source": [
    "result = parallelize_dataframe(hotels, findAllServices, concatCounter)\n",
    "result = {k: v for k, v in result.items() if v} # remove empty results\n",
    "\n",
    "resultDf = pd.DataFrame(result).transpose()\n",
    "resultDf.to_csv('resultados_apartado_2.csv')\n",
    "resultDf.head()"
   ]
  },
  {
   "cell_type": "markdown",
   "metadata": {},
   "source": [
    "### Resultados\n",
    "\n",
    "Los servicios encontrados en las review de cada hotel no tiene porque ser del propio hotel.\n",
    "\n",
    "Comentar también que el synset de 'pool.n.01' puesto para detectar si el hotel tiene o no piscina, ha terminado detectando si hay desagües (sink/s)"
   ]
  },
  {
   "cell_type": "markdown",
   "metadata": {},
   "source": [
    "## 3. ¿Qué lugares y qué porcentaje de revisiones sobre cada ciudad mencionan otras ciudades, regiones o puntos de interés turístico?\n",
    "\n",
    "En este apartado en lugar de usar nltk vamos a usar spacy. Spacy, durante la tokenización nos etiqueta el tipo de palabra que es. En nuestro caso buscaremos por las palabras que se etiqueten como `GPE`, \"Geopolitical entity, i.e. countries, cities, states\"."
   ]
  },
  {
   "cell_type": "code",
   "execution_count": 25,
   "metadata": {},
   "outputs": [],
   "source": [
    "%%px\n",
    "import spacy\n",
    "nlp = spacy.load(\"en_core_web_sm\")"
   ]
  },
  {
   "cell_type": "code",
   "execution_count": 31,
   "metadata": {},
   "outputs": [
    {
     "data": {
      "application/vnd.jupyter.widget-view+json": {
       "model_id": "2e0b8cefc4ec4514a1acc67c32909845",
       "version_major": 2,
       "version_minor": 0
      },
      "text/plain": [
       "findGpeMentions:   0%|          | 0/12 [00:00<?, ?tasks/s]"
      ]
     },
     "metadata": {},
     "output_type": "display_data"
    },
    {
     "data": {
      "text/html": [
       "<div>\n",
       "<style scoped>\n",
       "    .dataframe tbody tr th:only-of-type {\n",
       "        vertical-align: middle;\n",
       "    }\n",
       "\n",
       "    .dataframe tbody tr th {\n",
       "        vertical-align: top;\n",
       "    }\n",
       "\n",
       "    .dataframe thead th {\n",
       "        text-align: right;\n",
       "    }\n",
       "</style>\n",
       "<table border=\"1\" class=\"dataframe\">\n",
       "  <thead>\n",
       "    <tr style=\"text-align: right;\">\n",
       "      <th></th>\n",
       "      <th>test_city</th>\n",
       "    </tr>\n",
       "  </thead>\n",
       "  <tbody>\n",
       "    <tr>\n",
       "      <th>beihai park</th>\n",
       "      <td>1</td>\n",
       "    </tr>\n",
       "    <tr>\n",
       "      <th>beiing</th>\n",
       "      <td>1</td>\n",
       "    </tr>\n",
       "    <tr>\n",
       "      <th>beijing</th>\n",
       "      <td>65</td>\n",
       "    </tr>\n",
       "    <tr>\n",
       "      <th>china</th>\n",
       "      <td>19</td>\n",
       "    </tr>\n",
       "    <tr>\n",
       "      <th>forbidden city</th>\n",
       "      <td>1</td>\n",
       "    </tr>\n",
       "  </tbody>\n",
       "</table>\n",
       "</div>"
      ],
      "text/plain": [
       "                test_city\n",
       "beihai park             1\n",
       "beiing                  1\n",
       "beijing                65\n",
       "china                  19\n",
       "forbidden city          1"
      ]
     },
     "execution_count": 31,
     "metadata": {},
     "output_type": "execute_result"
    }
   ],
   "source": [
    "def findGpeMentions(hotels):\n",
    "  gpeMentions = {}\n",
    "  for index, hotel in hotels.iterrows():\n",
    "    reviews = getReviews(hotel)\n",
    "    for reviewIdx, review in reviews.iterrows():\n",
    "      text = str(review.title) + \". \" + str(review.review)\n",
    "      tokens = nlp(text)\n",
    "      for ent in tokens.ents:\n",
    "        if ent.label_ == \"GPE\":\n",
    "          gpeMentions = addOne(gpeMentions, ent.lower_)\n",
    "      gpeMentions = addOne(gpeMentions, \"reviewsAnalyzed\")\n",
    "  return gpeMentions\n",
    "\n",
    "#test\n",
    "test_result = {}\n",
    "test_result[\"test_city\"] = parallelize_dataframe(hotels[10:12], findGpeMentions, concatCounter)\n",
    "pd.DataFrame.from_dict(test_result).fillna(0).head()"
   ]
  },
  {
   "cell_type": "code",
   "execution_count": 32,
   "metadata": {},
   "outputs": [
    {
     "data": {
      "application/vnd.jupyter.widget-view+json": {
       "model_id": "d2b08327cd704500ae6c7394b685a3df",
       "version_major": 2,
       "version_minor": 0
      },
      "text/plain": [
       "findGpeMentions:   0%|          | 0/12 [00:00<?, ?tasks/s]"
      ]
     },
     "metadata": {},
     "output_type": "display_data"
    },
    {
     "data": {
      "application/vnd.jupyter.widget-view+json": {
       "model_id": "ef8aeb6f550b4571913f0e874d1853d6",
       "version_major": 2,
       "version_minor": 0
      },
      "text/plain": [
       "findGpeMentions:   0%|          | 0/12 [00:00<?, ?tasks/s]"
      ]
     },
     "metadata": {},
     "output_type": "display_data"
    },
    {
     "data": {
      "application/vnd.jupyter.widget-view+json": {
       "model_id": "4bf02bb220d045cc951fd0a1536e2afa",
       "version_major": 2,
       "version_minor": 0
      },
      "text/plain": [
       "findGpeMentions:   0%|          | 0/12 [00:00<?, ?tasks/s]"
      ]
     },
     "metadata": {},
     "output_type": "display_data"
    },
    {
     "data": {
      "application/vnd.jupyter.widget-view+json": {
       "model_id": "9b1a4f0e174848a9922e244443439b42",
       "version_major": 2,
       "version_minor": 0
      },
      "text/plain": [
       "findGpeMentions:   0%|          | 0/12 [00:00<?, ?tasks/s]"
      ]
     },
     "metadata": {},
     "output_type": "display_data"
    },
    {
     "data": {
      "application/vnd.jupyter.widget-view+json": {
       "model_id": "15b05c4881fd4162a678a656435cffae",
       "version_major": 2,
       "version_minor": 0
      },
      "text/plain": [
       "findGpeMentions:   0%|          | 0/12 [00:00<?, ?tasks/s]"
      ]
     },
     "metadata": {},
     "output_type": "display_data"
    },
    {
     "data": {
      "application/vnd.jupyter.widget-view+json": {
       "model_id": "ce5f07318ae74c2db4936126b9a898b6",
       "version_major": 2,
       "version_minor": 0
      },
      "text/plain": [
       "findGpeMentions:   0%|          | 0/12 [00:00<?, ?tasks/s]"
      ]
     },
     "metadata": {},
     "output_type": "display_data"
    },
    {
     "data": {
      "application/vnd.jupyter.widget-view+json": {
       "model_id": "18c8b4882184468d9099cd4d687c2778",
       "version_major": 2,
       "version_minor": 0
      },
      "text/plain": [
       "findGpeMentions:   0%|          | 0/12 [00:00<?, ?tasks/s]"
      ]
     },
     "metadata": {},
     "output_type": "display_data"
    },
    {
     "data": {
      "application/vnd.jupyter.widget-view+json": {
       "model_id": "23acfcff040c4bfba1349d0c30671149",
       "version_major": 2,
       "version_minor": 0
      },
      "text/plain": [
       "findGpeMentions:   0%|          | 0/12 [00:00<?, ?tasks/s]"
      ]
     },
     "metadata": {},
     "output_type": "display_data"
    },
    {
     "data": {
      "application/vnd.jupyter.widget-view+json": {
       "model_id": "07082af73a2846bab51239d928a04845",
       "version_major": 2,
       "version_minor": 0
      },
      "text/plain": [
       "findGpeMentions:   0%|          | 0/12 [00:00<?, ?tasks/s]"
      ]
     },
     "metadata": {},
     "output_type": "display_data"
    },
    {
     "data": {
      "application/vnd.jupyter.widget-view+json": {
       "model_id": "b588976f01f4480f81d09991d3cda0fb",
       "version_major": 2,
       "version_minor": 0
      },
      "text/plain": [
       "findGpeMentions:   0%|          | 0/12 [00:00<?, ?tasks/s]"
      ]
     },
     "metadata": {},
     "output_type": "display_data"
    },
    {
     "data": {
      "text/html": [
       "<div>\n",
       "<style scoped>\n",
       "    .dataframe tbody tr th:only-of-type {\n",
       "        vertical-align: middle;\n",
       "    }\n",
       "\n",
       "    .dataframe tbody tr th {\n",
       "        vertical-align: top;\n",
       "    }\n",
       "\n",
       "    .dataframe thead th {\n",
       "        text-align: right;\n",
       "    }\n",
       "</style>\n",
       "<table border=\"1\" class=\"dataframe\">\n",
       "  <thead>\n",
       "    <tr style=\"text-align: right;\">\n",
       "      <th></th>\n",
       "      <th>beijing</th>\n",
       "      <th>chicago</th>\n",
       "      <th>dubai</th>\n",
       "      <th>las vegas</th>\n",
       "      <th>london</th>\n",
       "      <th>montreal</th>\n",
       "      <th>new delhi</th>\n",
       "      <th>new york city</th>\n",
       "      <th>san francisco</th>\n",
       "      <th>shanghai</th>\n",
       "    </tr>\n",
       "  </thead>\n",
       "  <tbody>\n",
       "    <tr>\n",
       "      <th>china</th>\n",
       "      <td>1378.0</td>\n",
       "      <td>25.0</td>\n",
       "      <td>30.0</td>\n",
       "      <td>17.0</td>\n",
       "      <td>141.0</td>\n",
       "      <td>53.0</td>\n",
       "      <td>10.0</td>\n",
       "      <td>194.0</td>\n",
       "      <td>648.0</td>\n",
       "      <td>856.0</td>\n",
       "    </tr>\n",
       "    <tr>\n",
       "      <th>forbidden city</th>\n",
       "      <td>323.0</td>\n",
       "      <td>0.0</td>\n",
       "      <td>0.0</td>\n",
       "      <td>0.0</td>\n",
       "      <td>0.0</td>\n",
       "      <td>0.0</td>\n",
       "      <td>0.0</td>\n",
       "      <td>0.0</td>\n",
       "      <td>0.0</td>\n",
       "      <td>0.0</td>\n",
       "    </tr>\n",
       "    <tr>\n",
       "      <th>reviewsAnalyzed</th>\n",
       "      <td>5253.0</td>\n",
       "      <td>18053.0</td>\n",
       "      <td>11767.0</td>\n",
       "      <td>26157.0</td>\n",
       "      <td>78896.0</td>\n",
       "      <td>9333.0</td>\n",
       "      <td>4917.0</td>\n",
       "      <td>54659.0</td>\n",
       "      <td>30401.0</td>\n",
       "      <td>4276.0</td>\n",
       "    </tr>\n",
       "    <tr>\n",
       "      <th>beijing</th>\n",
       "      <td>3942.0</td>\n",
       "      <td>1.0</td>\n",
       "      <td>2.0</td>\n",
       "      <td>3.0</td>\n",
       "      <td>9.0</td>\n",
       "      <td>2.0</td>\n",
       "      <td>2.0</td>\n",
       "      <td>1.0</td>\n",
       "      <td>1.0</td>\n",
       "      <td>149.0</td>\n",
       "    </tr>\n",
       "    <tr>\n",
       "      <th>us</th>\n",
       "      <td>196.0</td>\n",
       "      <td>189.0</td>\n",
       "      <td>133.0</td>\n",
       "      <td>211.0</td>\n",
       "      <td>1368.0</td>\n",
       "      <td>151.0</td>\n",
       "      <td>95.0</td>\n",
       "      <td>662.0</td>\n",
       "      <td>425.0</td>\n",
       "      <td>78.0</td>\n",
       "    </tr>\n",
       "  </tbody>\n",
       "</table>\n",
       "</div>"
      ],
      "text/plain": [
       "                 beijing  chicago    dubai  las vegas   london  montreal  \\\n",
       "china             1378.0     25.0     30.0       17.0    141.0      53.0   \n",
       "forbidden city     323.0      0.0      0.0        0.0      0.0       0.0   \n",
       "reviewsAnalyzed   5253.0  18053.0  11767.0    26157.0  78896.0    9333.0   \n",
       "beijing           3942.0      1.0      2.0        3.0      9.0       2.0   \n",
       "us                 196.0    189.0    133.0      211.0   1368.0     151.0   \n",
       "\n",
       "                 new delhi  new york city  san francisco  shanghai  \n",
       "china                 10.0          194.0          648.0     856.0  \n",
       "forbidden city         0.0            0.0            0.0       0.0  \n",
       "reviewsAnalyzed     4917.0        54659.0        30401.0    4276.0  \n",
       "beijing                2.0            1.0            1.0     149.0  \n",
       "us                    95.0          662.0          425.0      78.0  "
      ]
     },
     "execution_count": 32,
     "metadata": {},
     "output_type": "execute_result"
    }
   ],
   "source": [
    "allGpeMentions = {}\n",
    "\n",
    "for city in cities:\n",
    "  allGpeMentions[city] = parallelize_dataframe(hotels[hotels[\"city\"] == city], findGpeMentions, concatCounter)\n",
    "\n",
    "allGpeMentionsDf = pd.DataFrame.from_dict(allGpeMentions).fillna(0)\n",
    "allGpeMentionsDf.to_csv(\"resultados_apartado_3.csv\")\n",
    "allGpeMentionsDf.head()"
   ]
  },
  {
   "cell_type": "markdown",
   "metadata": {},
   "source": [
    "### Por ejemplo, con vuestra información podríamos llegar a responder a la pregunta: ¿en Las Vegas se menciona el Gran Cañón del Colorado?\n",
    "Si, para ello tendríamos que buscar en el resultado de búsqueda `allGpeMentions` por la key, `Las Vegas` y dentro de las menciones de Las Vegas buscar si existe la key `Gran Cañón del Colorado`, en el idoma de las reviews, inglés.\n",
    "Hay que tener en cuenta que no se corregido el input del usuario, por lo que resultados como \"Gran canyon\" o \"Colorado canyon\" aparecerían como sitios distintos."
   ]
  },
  {
   "cell_type": "code",
   "execution_count": 35,
   "metadata": {},
   "outputs": [
    {
     "name": "stdout",
     "output_type": "stream",
     "text": [
      "No se ha encontrado 'gran canyon'\n"
     ]
    }
   ],
   "source": [
    "lasVegasGpe = allGpeMentions.get(\"las vegas\", {})\n",
    "granCanyonGpe = lasVegasGpe.get(\"gran canyon\", \"No se ha encontrado 'gran canyon'\")\n",
    "print(granCanyonGpe)"
   ]
  },
  {
   "cell_type": "markdown",
   "metadata": {},
   "source": [
    "Buscando con regex a mano si he encontrado \"gran canyon\". A continuación el porqué no se detecta."
   ]
  },
  {
   "cell_type": "code",
   "execution_count": 36,
   "metadata": {},
   "outputs": [
    {
     "data": {
      "text/html": [
       "<span class=\"tex2jax_ignore\"><div class=\"entities\" style=\"line-height: 2.5; direction: ltr\">fantastic value for money at the excalibur\tMy husband and i stayed at the \n",
       "<mark class=\"entity\" style=\"background: #7aecec; padding: 0.45em 0.6em; margin: 0 0.25em; line-height: 1; border-radius: 0.35em;\">\n",
       "    excalibur\n",
       "    <span style=\"font-size: 0.8em; font-weight: bold; line-height: 1; border-radius: 0.35em; text-transform: uppercase; vertical-align: middle; margin-left: 0.5rem\">ORG</span>\n",
       "</mark>\n",
       " from \n",
       "<mark class=\"entity\" style=\"background: #bfe1d9; padding: 0.45em 0.6em; margin: 0 0.25em; line-height: 1; border-radius: 0.35em;\">\n",
       "    the 6th to 16th april\n",
       "    <span style=\"font-size: 0.8em; font-weight: bold; line-height: 1; border-radius: 0.35em; text-transform: uppercase; vertical-align: middle; margin-left: 0.5rem\">DATE</span>\n",
       "</mark>\n",
       " we had a wonderful time, this hotel is in a great spot on strip, we were in tower \n",
       "<mark class=\"entity\" style=\"background: #e4e7d2; padding: 0.45em 0.6em; margin: 0 0.25em; line-height: 1; border-radius: 0.35em;\">\n",
       "    2\n",
       "    <span style=\"font-size: 0.8em; font-weight: bold; line-height: 1; border-radius: 0.35em; text-transform: uppercase; vertical-align: middle; margin-left: 0.5rem\">CARDINAL</span>\n",
       "</mark>\n",
       " and the room was spotless, cleaned \n",
       "<mark class=\"entity\" style=\"background: #bfe1d9; padding: 0.45em 0.6em; margin: 0 0.25em; line-height: 1; border-radius: 0.35em;\">\n",
       "    every day\n",
       "    <span style=\"font-size: 0.8em; font-weight: bold; line-height: 1; border-radius: 0.35em; text-transform: uppercase; vertical-align: middle; margin-left: 0.5rem\">DATE</span>\n",
       "</mark>\n",
       ", food was great value from buffet bar, staff were very friendly and helpful, if you are going to visit \n",
       "<mark class=\"entity\" style=\"background: #aa9cfc; padding: 0.45em 0.6em; margin: 0 0.25em; line-height: 1; border-radius: 0.35em;\">\n",
       "    gran canyon\n",
       "    <span style=\"font-size: 0.8em; font-weight: bold; line-height: 1; border-radius: 0.35em; text-transform: uppercase; vertical-align: middle; margin-left: 0.5rem\">PERSON</span>\n",
       "</mark>\n",
       " book with sundance they are a class act just a fantastic place to visit \n",
       "<mark class=\"entity\" style=\"background: #feca74; padding: 0.45em 0.6em; margin: 0 0.25em; line-height: 1; border-radius: 0.35em;\">\n",
       "    las vegas\n",
       "    <span style=\"font-size: 0.8em; font-weight: bold; line-height: 1; border-radius: 0.35em; text-transform: uppercase; vertical-align: middle; margin-left: 0.5rem\">GPE</span>\n",
       "</mark>\n",
       " cant wait to go back</div></span>"
      ],
      "text/plain": [
       "<IPython.core.display.HTML object>"
      ]
     },
     "metadata": {},
     "output_type": "display_data"
    }
   ],
   "source": [
    "import spacy\n",
    "from spacy import displacy\n",
    "from collections import Counter\n",
    "import en_core_web_sm\n",
    "nlp = en_core_web_sm.load()\n",
    "\n",
    "# review 320 de usa_nevada_las-vegas_excalibur_hotel_casino\n",
    "text = \"fantastic value for money at the excalibur\tMy husband and i stayed at the excalibur from the 6th to 16th april we had a wonderful time, this hotel is in a great spot on strip, we were in tower 2 and the room was spotless, cleaned every day, food was great value from buffet bar, staff were very friendly and helpful, if you are going to visit gran canyon book with sundance they are a class act just a fantastic place to visit las vegas cant wait to go back\"\n",
    "\n",
    "train = nlp(text)\n",
    "displacy.render(train, jupyter=True, style=\"ent\")"
   ]
  },
  {
   "cell_type": "markdown",
   "metadata": {},
   "source": [
    "Gran canyon se etiqueta como nombre de persona en lugar de una ubicación, `GPE`."
   ]
  }
 ],
 "metadata": {
  "interpreter": {
   "hash": "a707b6ce8c685eb936424fcc3009d4b4b7a52543c4db09380a3fc49186ceb509"
  },
  "kernelspec": {
   "display_name": "Python 3.8.8 ('base')",
   "language": "python",
   "name": "python3"
  },
  "language_info": {
   "codemirror_mode": {
    "name": "ipython",
    "version": 3
   },
   "file_extension": ".py",
   "mimetype": "text/x-python",
   "name": "python",
   "nbconvert_exporter": "python",
   "pygments_lexer": "ipython3",
   "version": "3.8.13"
  },
  "orig_nbformat": 4
 },
 "nbformat": 4,
 "nbformat_minor": 2
}
